{
 "cells": [
  {
   "cell_type": "code",
   "execution_count": null,
   "metadata": {},
   "outputs": [],
   "source": [
    "%%time\n",
    "\n",
    "import torch\n",
    "from torch import optim\n",
    "import torch.nn as nn\n",
    "import torch.nn.functional as F\n",
    "from torchvision.datasets import CIFAR10\n",
    "import torchvision.transforms as transforms\n",
    "from torch.utils.data import DataLoader\n",
    "\n",
    "cifar10_train = CIFAR10(root='cifar10',\n",
    "                        train=True,\n",
    "                        download=True,\n",
    "                        transform=transforms.ToTensor())\n",
    "cifar10_test = CIFAR10(root='cifar10',\n",
    "                        train=False,\n",
    "                        download=True,\n",
    "                        transform=transforms.ToTensor())"
   ]
  }
 ],
 "metadata": {
  "language_info": {
   "name": "python"
  }
 },
 "nbformat": 4,
 "nbformat_minor": 2
}
