{
 "cells": [
  {
   "cell_type": "markdown",
   "metadata": {},
   "source": [
    "# 3. PyTorch で実装する簡単な深層学習"
   ]
  },
  {
   "cell_type": "markdown",
   "metadata": {},
   "source": [
    "## 3.1 実装の概要"
   ]
  },
  {
   "cell_type": "markdown",
   "metadata": {},
   "source": [
    "### 3.1.3 実装の手順\n",
    "1. データの前処理\n",
    "2. モデルの構築\n",
    "3. モデルの学習\n",
    "4. モデルの検証"
   ]
  },
  {
   "cell_type": "markdown",
   "metadata": {},
   "source": [
    "## 3.2 Tensor\n",
    "### 3.2.1 パッケージの確認"
   ]
  },
  {
   "cell_type": "markdown",
   "metadata": {},
   "source": [
    "### 3.2.2 Tensor の生成"
   ]
  },
  {
   "cell_type": "code",
   "execution_count": 4,
   "metadata": {},
   "outputs": [
    {
     "name": "stdout",
     "output_type": "stream",
     "text": [
      "tensor([1, 2, 3]) <class 'torch.Tensor'>\n"
     ]
    }
   ],
   "source": [
    "import torch\n",
    "\n",
    "a = torch.tensor([1, 2, 3])\n",
    "print(a, type(a))"
   ]
  },
  {
   "cell_type": "code",
   "execution_count": 7,
   "metadata": {},
   "outputs": [
    {
     "name": "stdout",
     "output_type": "stream",
     "text": [
      "--- 2次元のリストから生成 ---\n",
      "tensor([[1, 2],\n",
      "        [3, 4]])\n",
      "--- dtypeを指定し、倍精度のTensorにする ---\n",
      "tensor([[1., 2.],\n",
      "        [3., 4.]], dtype=torch.float64)\n",
      "--- 0から9までの数値で初期化 ---\n",
      "tensor([0, 1, 2, 3, 4, 5, 6, 7, 8, 9])\n",
      "--- 全ての値が0の、2 x 3のTensor ---\n",
      "tensor([[0., 0., 0.],\n",
      "        [0., 0., 0.]])\n",
      "--- 全ての値が乱数の、2 x 3のTensor ---\n",
      "tensor([[0.3647, 0.6477, 0.2415],\n",
      "        [0.2288, 0.3025, 0.5514]])\n",
      "--- Tensorの形状はsizeメソッドで取得 ---\n",
      "torch.Size([2, 3])\n"
     ]
    }
   ],
   "source": [
    "print (\"--- 2次元のリストから生成 ---\")\n",
    "b = torch.tensor([[1,2],\n",
    "                  [3,4]])\n",
    "print(b)\n",
    "\n",
    "print(\"--- dtypeを指定し、倍精度のTensorにする ---\")\n",
    "c = torch.tensor([[1, 2],\n",
    "                  [3, 4]], dtype=torch.float64)\n",
    "print(c)\n",
    "\n",
    "print (\"--- 0から9までの数値で初期化 ---\")\n",
    "d = torch.arange(0, 10)\n",
    "print (d)\n",
    "\n",
    "print (\"--- 全ての値が0の、2 x 3のTensor ---\")\n",
    "e = torch.zeros(2, 3)\n",
    "print(e)\n",
    "\n",
    "print(\"--- 全ての値が乱数の、2 x 3のTensor ---\")\n",
    "f = torch.rand(2,3)\n",
    "print(f)\n",
    "\n",
    "print(\"--- Tensorの形状はsizeメソッドで取得 ---\")\n",
    "print(f.size())"
   ]
  },
  {
   "cell_type": "code",
   "execution_count": 8,
   "metadata": {},
   "outputs": [
    {
     "name": "stdout",
     "output_type": "stream",
     "text": [
      "--- -5から5までの連続値を10生成 ---\n",
      "tensor([-5.0000, -3.8889, -2.7778, -1.6667, -0.5556,  0.5556,  1.6667,  2.7778,\n",
      "         3.8889,  5.0000])\n"
     ]
    }
   ],
   "source": [
    "# linspace()関数でTensorを生成する\n",
    "print(\"--- -5から5までの連続値を10生成 ---\")\n",
    "g = torch.linspace(-5, 5, 10)\n",
    "print(g)"
   ]
  },
  {
   "cell_type": "markdown",
   "metadata": {},
   "source": [
    "### 3.2.3 NumPy の配列と Tensor の相互変換"
   ]
  },
  {
   "cell_type": "code",
   "execution_count": 9,
   "metadata": {},
   "outputs": [
    {
     "name": "stdout",
     "output_type": "stream",
     "text": [
      "-- Tensor → NumPy\n",
      "[[1. 2.]\n",
      " [3. 4.]]\n",
      "--- NumPy → Tensor\n",
      "tensor([[1., 2.],\n",
      "        [3., 4.]])\n"
     ]
    }
   ],
   "source": [
    "# NumPy の配列とTensor の相互変換\n",
    "print(\"-- Tensor → NumPy\")\n",
    "a = torch.tensor([[1, 2],\n",
    "                  [3, 4.]])\n",
    "b = a.numpy()\n",
    "print(b)\n",
    "\n",
    "print(\"--- NumPy → Tensor\")\n",
    "c = torch.from_numpy(b)\n",
    "print(c)"
   ]
  },
  {
   "cell_type": "markdown",
   "metadata": {},
   "source": [
    "### 3.2.4 範囲を指定してTensorの一部にアクセス"
   ]
  },
  {
   "cell_type": "code",
   "execution_count": 10,
   "metadata": {},
   "outputs": [
    {
     "name": "stdout",
     "output_type": "stream",
     "text": [
      "--- 2つのインデックスを指定 ---\n",
      "tensor(2)\n",
      "--- 範囲を指定 ---\n",
      "tensor([[4, 5]])\n"
     ]
    }
   ],
   "source": [
    "# 範囲を指定してTensorの要素にアクセス\n",
    "a = torch.tensor([[1, 2, 3],\n",
    "                  [4, 5, 6]])\n",
    "\n",
    "print(\"--- 2つのインデックスを指定 ---\")\n",
    "print(a[0, 1])\n",
    "\n",
    "print(\"--- 範囲を指定 ---\")\n",
    "print(a[1:2, :2]) "
   ]
  },
  {
   "cell_type": "markdown",
   "metadata": {},
   "source": [
    "### 3.2.5 Tensorの演算"
   ]
  },
  {
   "cell_type": "code",
   "execution_count": 13,
   "metadata": {},
   "outputs": [
    {
     "name": "stdout",
     "output_type": "stream",
     "text": [
      "tensor([4, 5, 6])\n",
      "tensor([5, 7, 9])\n",
      "tensor([[8, 7, 6],\n",
      "        [5, 4, 3]])\n",
      "tensor([[7, 7, 7],\n",
      "        [4, 4, 4]])\n",
      "tensor([[12, 10,  8],\n",
      "        [ 6,  4,  2]])\n"
     ]
    }
   ],
   "source": [
    "# ベクトル\n",
    "a = torch.tensor([1,2,3])\n",
    "b = torch.tensor([4,5,6])\n",
    "\n",
    "# 行列\n",
    "c = torch.tensor([[6,5,4],\n",
    "                  [3,2,1]])\n",
    "\n",
    "print(a +3) # ベクトルとスカラーの足し算\n",
    "print(a + b) # ベクトル同士の足し算\n",
    "print(c + 2) # 行列とスカラーの足し算\n",
    "print(c + a) # 行列とベクトルの足し算(ブロードキャスト)\n",
    "print(c + c) # 行列同士の足し算"
   ]
  },
  {
   "cell_type": "markdown",
   "metadata": {},
   "source": [
    "### 3.2.6 Tensorの形状を変換"
   ]
  },
  {
   "cell_type": "code",
   "execution_count": null,
   "metadata": {},
   "outputs": [],
   "source": []
  }
 ],
 "metadata": {
  "kernelspec": {
   "display_name": "deep_learning",
   "language": "python",
   "name": "python3"
  },
  "language_info": {
   "codemirror_mode": {
    "name": "ipython",
    "version": 3
   },
   "file_extension": ".py",
   "mimetype": "text/x-python",
   "name": "python",
   "nbconvert_exporter": "python",
   "pygments_lexer": "ipython3",
   "version": "3.12.1"
  }
 },
 "nbformat": 4,
 "nbformat_minor": 2
}
